{
  "cells": [
    {
      "cell_type": "markdown",
      "metadata": {
        "id": "W5HGSGxhnEfS"
      },
      "source": [
        "# 1. Développement d'un jeu"
      ]
    },
    {
      "cell_type": "code",
      "execution_count": 29,
      "metadata": {
        "id": "16u0v0mvnEfU"
      },
      "outputs": [],
      "source": [
        "# imports\n",
        "import random\n",
        "import numpy as np\n",
        "import matplotlib.pyplot as plt"
      ]
    },
    {
      "cell_type": "code",
      "execution_count": 30,
      "metadata": {
        "id": "6bQNPZzonEfV"
      },
      "outputs": [],
      "source": [
        "# configuration\n",
        "GAMMA = 0.96\n",
        "ALPHA = 0.81"
      ]
    },
    {
      "cell_type": "markdown",
      "metadata": {
        "id": "ehrDGUS-pwUG"
      },
      "source": [
        "##### Créer une fonction qui permet de simuler le plateau en positionnant notamment les différents éléments (case départ, fin, dragons)."
      ]
    },
    {
      "cell_type": "code",
      "execution_count": 31,
      "metadata": {
        "id": "dWZoG4tanEfW"
      },
      "outputs": [],
      "source": [
        "#for the space\n",
        "\"\"\"\n",
        "by default the default space is used\n",
        "the space is a 2D array 4 * 4 of characters\n",
        "the characters are: \n",
        "    'S' : the starting point\n",
        "    '_' : empty space\n",
        "    'J' : the goal\n",
        "    'D' : a dragon\n",
        "the default space is:\n",
        "    S___\n",
        "    D_D_ \n",
        "    ___D\n",
        "    _D_J\n",
        "\"\"\"\n",
        "\n",
        "# the default space\n",
        "default_space = [\n",
        "        ['S', '_', '_', '_'],\n",
        "        ['D', '_', 'D', '_'],\n",
        "        ['_', '_', '_', 'D'],\n",
        "        ['_', 'D', '_', 'J']\n",
        "    ]\n",
        "\n",
        "def get_default_space():\n",
        "    return default_space\n",
        "\n",
        "# a random space with number of lines and columns and a number of dragons\n",
        "def get_random_space(lines, columns, dragons):\n",
        "    space = []\n",
        "    for l in range(lines):\n",
        "        space.append([])\n",
        "        for c in range(columns):\n",
        "            space[l].append('_')\n",
        "\n",
        "    space[0][0] = 'S'\n",
        "    space[lines-1][columns-1] = 'J'\n",
        "    \n",
        "    i = 0\n",
        "    while i < dragons:\n",
        "        l = random.randint(0, lines-1)\n",
        "        c = random.randint(0, columns-1)\n",
        "        if space[l][c] == '_':\n",
        "            space[l][c] = 'D'\n",
        "            i += 1\n",
        "        else:\n",
        "            i -= 1\n",
        "\n",
        "    return space\n",
        "\n",
        "# pretty print the space\n",
        "def print_space(space):\n",
        "    for l in space:\n",
        "        for c in l:\n",
        "            print(c, end='| ')\n",
        "        \n",
        "        print()\n",
        "\n",
        "# get the size of the lines\n",
        "def get_lines_size(space):\n",
        "    return len(space)\n",
        "\n",
        "# get the size of the columns\n",
        "def get_columns_size(space):\n",
        "    return len(space[0])\n",
        "\n",
        "# get the size of the space\n",
        "def get_size(space):\n",
        "    return get_lines_size(space) * get_columns_size(space)\n",
        "    "
      ]
    },
    {
      "cell_type": "code",
      "execution_count": 32,
      "metadata": {
        "id": "-eVBWhkOnEfX"
      },
      "outputs": [],
      "source": [
        "# a static class for the rewards\n",
        "class Rewards:\n",
        "    # the rewards for each character\n",
        "    rewards = {\n",
        "        'S': 0,\n",
        "        '_': 0,\n",
        "        'J': 1,\n",
        "        'D': -1\n",
        "    }\n",
        "\n",
        "    # a method to get the reward of a character\n",
        "    def get_reward(character):\n",
        "        return Rewards.rewards.get(character)\n",
        "\n",
        "    # a method to set the reward \n",
        "    def set_rewards(rewards):\n",
        "        Rewards.rewards = rewards\n",
        "\n",
        "    # a method to set the reward of a character\n",
        "    def set_reward(character, reward):\n",
        "        Rewards.rewards[character] = reward"
      ]
    },
    {
      "cell_type": "markdown",
      "metadata": {
        "id": "4qL0SIBRpwUI"
      },
      "source": [
        "##### Créer une fonction qui permet de simuler l'interaction entre l'agent et son environnement."
      ]
    },
    {
      "cell_type": "code",
      "execution_count": 33,
      "metadata": {
        "id": "amIQUyAKnEfX"
      },
      "outputs": [],
      "source": [
        "# a static class for the Directions\n",
        "class Directions:\n",
        "    # the directions\n",
        "    directions = [\"HAUT\", \"DROITE\", \"BAS\", \"GAUCHE\"]\n",
        "\n",
        "    # a method to get the size of the directions\n",
        "    def get_size():\n",
        "        return len(Directions.directions)\n",
        "\n",
        "    # a method to get the index of a direction\n",
        "    def get_index(direction):\n",
        "        return Directions.directions.index(direction)\n",
        "\n",
        "    # a method to get a random direction\n",
        "    def get_random_direction():\n",
        "        return random.choice(Directions.directions)\n",
        "\n",
        "    # a method to get the direction that maximizes the Q value\n",
        "    def get_max_direction(mat_q, state):\n",
        "        return Directions.directions[np.argmax(mat_q[state])]"
      ]
    },
    {
      "cell_type": "code",
      "execution_count": 34,
      "metadata": {
        "id": "emfLzRnwnEfY"
      },
      "outputs": [],
      "source": [
        "def isFin (space, position, verbose = False):\n",
        "    (l,c) = position\n",
        "\n",
        "    # if the player is at the goal, back to the starting point\n",
        "    if(space[l][c]== 'J'):\n",
        "        # print in green win\n",
        "        if verbose:\n",
        "            print(\"\\033[92m\" + \n",
        "            \"***********************************************************************************************************************************************************\\n\" +\n",
        "            \"********************************************************************** YOU WIN ****************************************************************************\\n\" +\n",
        "            \"***********************************************************************************************************************************************************\\n\" +\n",
        "            \"\\033[0m\")\n",
        "        return True, (0,0)\n",
        "\n",
        "    # # if the player ecnounters a dragon, back to the starting point\n",
        "    if(space[l][c]== 'D'):\n",
        "        # print in red loose\n",
        "        if verbose:\n",
        "            print(\"\\033[91m\" +\n",
        "            \"********************************************************************** YOU LOOSE ***************************************************************************\\n\" +\n",
        "            \"\\033[0m\")\n",
        "        return True, (0,0)\n",
        "\n",
        "    return False, position\n",
        "\n",
        "# a method to apply an action to the player\n",
        "def applicaion_action(action, position, space, verbose = False):\n",
        "\n",
        "    (l, c) = position\n",
        "    nextPos = position\n",
        "\n",
        "    if action == \"HAUT\":\n",
        "        nextPos = (l-1,c)\n",
        "    elif action == \"DROITE\":\n",
        "        nextPos = (l,c+1)\n",
        "    elif action == \"BAS\":\n",
        "        nextPos = (l+1,c);\n",
        "    elif action == \"GAUCHE\":\n",
        "        nextPos = (l,c-1);\n",
        "\n",
        "    # check if the next position is in the space\n",
        "    if (nextPos[0] < len(space) and nextPos[1] < len(space) and nextPos[0] >=0 and nextPos[1] >=0 ):\n",
        "        position = nextPos\n",
        "        \n",
        "    # get the current case in the space\n",
        "    case = space[position[0]][position[1]]\n",
        "    # set the reward\n",
        "    reward = Rewards.get_reward(case)\n",
        "\n",
        "    # check if the player is at the goal\n",
        "    fin, position = isFin(space, position, verbose)\n",
        "\n",
        "    return [position, reward, fin]"
      ]
    },
    {
      "cell_type": "markdown",
      "metadata": {
        "id": "s3CB8YzfpwUK"
      },
      "source": [
        "### Donner quelques éléments de commentaire sur la mise en place de l'environnement de jeux\n",
        "\n",
        "##### 1) Le plateau\n",
        "\n",
        "Pour créer un environnement de jeux, nous avons d'abord créé une la variable ***default_space*** qui est un tableau 2 dimensions **(4*4)** de charactères qui representent les cases du plateau de jeu proposé. Les cases sont représentées par les caractères suivants:\n",
        "\n",
        "*   **\"_\"** représente une case vide\n",
        "*   **\"D\"** représente une case avec un dragon\n",
        "*   **\"S\"** représente la case de départ\n",
        "*   **\"J\"** représente la case d'arrivée (JAIL)\n",
        "\n",
        "\n",
        "Nous avons aussi créé une fonction ***get_random_space*** qui permet de générer un plateau de jeu aléatoire en precisant le nombre de lignes, de colonnes etle nombre de dragons à placer sur le plateau.\n",
        "\n",
        "Nous avons aussi créé une fonction ***print_space*** qui permet d'afficher le plateau de jeu.\n",
        "\n",
        "##### 2) L'interaction\n",
        "\n",
        "Avec la function ***application_action*** nous créons une nouvelle position ***nextPos*** en fonction de l'***action***, et nous verifions si la nouvelle position est valide ou non. \n",
        "\n",
        "Si la nouvelle position est valide, nous mettons à jour la position de l'agent et nous recupérons la récompense associée à cette nouvelle position.\n",
        "\n",
        "Si la nouvelle position n'est pas valide, nous ne mettons pas à jour la position de l'agent et nous recupérons la récompense associée à la position actuelle.\n",
        "\n",
        "Puis nous verifions si la partie est terminée ou non (si l'agent est arrivé à la case d'arrivée ou s'il tombé sur un dragon), si la partie est terminée, nous réinitialisons la position de l'agent à la case de départ."
      ]
    },
    {
      "cell_type": "markdown",
      "metadata": {
        "id": "rDxUSIRynEfZ"
      },
      "source": [
        "# 2. Développement du Q-learning"
      ]
    },
    {
      "cell_type": "code",
      "execution_count": 35,
      "metadata": {
        "id": "Ug3WW4dUpwUL"
      },
      "outputs": [],
      "source": [
        "# for the Q matrix\n",
        "# init the Q matrix with zeros and the size of the space and the directions length\n",
        "def init_mat_q(space):\n",
        "    return np.zeros((get_lines_size(space), get_columns_size(space), Directions.get_size()))\n",
        "\n",
        "# get the Q value of a state and a direction\n",
        "def get_q_value(mat_q, state, direction):\n",
        "    return mat_q[state][Directions.get_index(direction)]\n",
        "\n",
        "# update the Q matrix\n",
        "# according to state, action, reward, next_state, ALPHA and GAMMA\n",
        "def update_mat_q(mat_q, state, action, reward, next_state):\n",
        "    mat_q[state][Directions.get_index(action)] += ALPHA * (reward + GAMMA * np.max(mat_q[next_state]) - mat_q[state][Directions.get_index(action)])\n",
        "    return mat_q\n",
        "\n",
        "# pretty print the space\n",
        "def print_mat_q(mat_q, space):\n",
        "    def get_best_direction(l, c):\n",
        "        return Directions.directions[np.argmax(mat_q[l][c])]\n",
        "\n",
        "    for l in range(get_lines_size(space)):\n",
        "        for c in range(get_columns_size(space)):\n",
        "            case      = space[l][c]\n",
        "            direction = get_best_direction(l, c)\n",
        "            q_value   = str(round(get_q_value(mat_q, (l, c), direction), 2)).ljust(6)\n",
        "\n",
        "            content = case + \" (\" + q_value + \") \" + direction\n",
        "            print(content.ljust(20), end='| ')\n",
        "        print(\"\\n_______________________________________________________________________________________\")"
      ]
    },
    {
      "cell_type": "code",
      "execution_count": 36,
      "metadata": {
        "id": "TIz5A3zznEfZ"
      },
      "outputs": [],
      "source": [
        "# a class for the game\n",
        "class Game:\n",
        "    # constructor that takes :\n",
        "    # number of episodes : 10000 by default\n",
        "    # number of steps : 100 by default\n",
        "    # is_random_space : False by default\n",
        "    # a Q matrix : initialized with zeros (with the size of the space and the number of directions)\n",
        "    def __init__(self, episodes = 10000, steps = 100, is_random_space = False, mat_q = None):\n",
        "        self.episodes = episodes\n",
        "        self.steps = steps\n",
        "        # the space\n",
        "        if is_random_space:\n",
        "            self.space = get_random_space(4, 4, 3)\n",
        "        else:\n",
        "            self.space = get_default_space()\n",
        "        \n",
        "        # the Q matrix \n",
        "        if mat_q is None:\n",
        "            self.mat_q = init_mat_q(self.space)\n",
        "\n",
        "    # a method to choose an action with the epsilon greedy policy\n",
        "    def choose_action(self, state, epsilon, mat_q):\n",
        "        if random.random() < epsilon:\n",
        "            return Directions.get_random_direction()\n",
        "        else:\n",
        "            return Directions.get_max_direction(mat_q, state)\n",
        "\n",
        "    # a method to play one step (with mat_q, state, epsilon)\n",
        "    def oneStep(self, mat_q, state, epsilon, verbose):\n",
        "        # choose an action\n",
        "        action = self.choose_action(state, epsilon, mat_q)\n",
        "        if verbose:\n",
        "            print(action, end=', ')\n",
        "        # apply the action\n",
        "        new_state, reward, fin = applicaion_action(action, state, self.space)\n",
        "        # update the Q matrix\n",
        "        new_q = update_mat_q(mat_q, state, action, reward, new_state)\n",
        "        return new_q, new_state, fin\n",
        "\n",
        "    # a method to apply the algorithm \n",
        "    def apply_algorithm(self):\n",
        "        total_steps = 0\n",
        "        # apply the algorithm \n",
        "        for episode in range(self.episodes):\n",
        "            # reset the position\n",
        "            position = (0, 0)\n",
        "            # calculate the epsilon\n",
        "            epsilon = self.episodes / (self.episodes + episode)\n",
        "            #print(\"epsilon : \", epsilon)\n",
        "\n",
        "            # play the game\n",
        "            for step in range(1, self.steps):\n",
        "                # play one step\n",
        "                self.mat_q, position, fin = self.oneStep(self.mat_q, position, epsilon, False)\n",
        "                # if the game is finished\n",
        "                if fin:\n",
        "                    total_steps += step\n",
        "                    break\n",
        "\n",
        "        print(\"total steps : \", total_steps)\n",
        "        print(\"average steps : \", total_steps / self.episodes)\n",
        "\n",
        "    # a method to play the game\n",
        "    def play(self):\n",
        "        # reset the position\n",
        "        position = (0, 0)\n",
        "        # play the game\n",
        "        for step in range(1, self.steps):\n",
        "            # play one step\n",
        "            self.mat_q, position, fin = self.oneStep(self.mat_q, position, 0, True)\n",
        "            # if the game is finished\n",
        "            if fin:\n",
        "                break\n"
      ]
    },
    {
      "cell_type": "code",
      "execution_count": 37,
      "metadata": {
        "colab": {
          "base_uri": "https://localhost:8080/"
        },
        "id": "eWZfAABqnEfa",
        "outputId": "ebf9ad2d-fd0a-4b43-c17e-e7ba0f7631c7"
      },
      "outputs": [
        {
          "name": "stdout",
          "output_type": "stream",
          "text": [
            "total steps :  58463\n",
            "average steps :  5.8463\n"
          ]
        }
      ],
      "source": [
        "# PLAY\n",
        "game = Game()\n",
        "game.apply_algorithm()"
      ]
    },
    {
      "cell_type": "markdown",
      "metadata": {
        "id": "Ncr7KZt_jiZ1"
      },
      "source": [
        "### Donner des éléments de commentaire sur la stratégie que vous avez utilisée pour développer l'algorithme de Q-Learning.\n",
        "\n",
        "##### 1) La matrice Q\n",
        "\n",
        "Nous avons :\n",
        "*   Une function ***init_mat_q*** qui prend en paramètre le plateau de jeu et elle retourne la matrice Q ***(nombre de ligne * nombre de ligne * Nombre de directions)*** initialisée à 0.\n",
        "*   Une function ***update_mat_q*** qui prend en paramètre la matrice Q, la position actuelle, la position suivante, l'action, la récompense et met à jour la matrice Q à la position actuelle et et pour la direction de l'action en utilisant la formule du cours.\n",
        "\n",
        "\n",
        "##### 2) L'algorithme Q-learning\n",
        "\n",
        "Nous avons une class ***Game***, son constructeur prend en paramètre :\n",
        "*   Le nombre de parties à jouer (10000 par défaut)\n",
        "*   Le nombre de coups par partie (100 par défaut)\n",
        "*   Un booléen ***is_random_space*** (False par défaut) qui permet de choisir si on veut un plateau de jeu aléatoire ou celui proposé par défaut\n",
        "*   Une matrice Q (None par défaut) qui permet de choisir si on veut utiliser une matrice Q déjà existante ou une nouvelle matrice Q qu'on va générer à partir du plateau de jeu\n",
        "\n",
        "La stratégie utilisée est l'***epsilon-greedy***, on choisit une action aléatoire avec une probabilité ***epsilon***, sinon on choisit l'action qui maximise la récompense.\n",
        "\n",
        "Dans la boucle pricipale de l'algorithme, l'epsilon est une fraction (nombre de parties  à jouer / nombre de parties  à jouer + nombre de parties jouées), donc au fur et à mesure que le nombre de parties jouées augmente, l'epsilon diminue.)"
      ]
    },
    {
      "cell_type": "code",
      "execution_count": 38,
      "metadata": {
        "colab": {
          "base_uri": "https://localhost:8080/"
        },
        "id": "G0yLMr9AjiZ2",
        "outputId": "d5728279-7196-445d-8fd0-98e33e1f8105"
      },
      "outputs": [
        {
          "name": "stdout",
          "output_type": "stream",
          "text": [
            "[[[3.603157   3.75328854 2.603157   3.603157  ]\n",
            "  [3.75328854 3.603157   3.90967556 3.603157  ]\n",
            "  [3.603157   3.45903072 2.603157   3.75328854]\n",
            "  [3.45903072 3.45903072 3.32066949 3.603157  ]]\n",
            "\n",
            " [[0.         0.         0.         0.        ]\n",
            "  [3.75328854 2.603157   4.07257871 2.603157  ]\n",
            "  [0.         0.         0.         0.        ]\n",
            "  [3.45903072 3.32066949 2.603157   2.60315684]]\n",
            "\n",
            " [[2.603157   4.07257871 3.75328854 3.90967556]\n",
            "  [3.90967556 4.24226949 2.603157   3.90967556]\n",
            "  [2.603157   2.603157   4.41903072 4.07257871]\n",
            "  [0.         0.         0.         0.        ]]\n",
            "\n",
            " [[3.90967556 2.603157   3.75328854 3.75328854]\n",
            "  [0.         0.         0.         0.        ]\n",
            "  [4.24226949 4.603157   4.41903072 2.603157  ]\n",
            "  [0.         0.         0.         0.        ]]]\n"
          ]
        }
      ],
      "source": [
        "print(game.mat_q)"
      ]
    },
    {
      "cell_type": "code",
      "execution_count": 39,
      "metadata": {
        "colab": {
          "base_uri": "https://localhost:8080/"
        },
        "id": "t6AXQlAnnEfa",
        "outputId": "0d0889a4-108e-42f2-d64f-1caff889d6c6"
      },
      "outputs": [
        {
          "name": "stdout",
          "output_type": "stream",
          "text": [
            "DROITE, BAS, BAS, DROITE, BAS, DROITE, fin de partie en 6 coups\n"
          ]
        }
      ],
      "source": [
        "# play a with the optimal policy\n",
        "position = (0, 0)\n",
        "for step in range(1, game.steps):\n",
        "    # play one step\n",
        "    game.mat_q, position, fin = game.oneStep(game.mat_q, position, 0, True)\n",
        "    if fin:\n",
        "        print(\"fin de partie en\", step, \"coups\")\n",
        "        break"
      ]
    },
    {
      "cell_type": "code",
      "execution_count": 40,
      "metadata": {
        "colab": {
          "base_uri": "https://localhost:8080/"
        },
        "id": "4rYr5rkcnEfa",
        "outputId": "ced52dde-4305-445b-8c68-79e1dc140bda"
      },
      "outputs": [
        {
          "name": "stdout",
          "output_type": "stream",
          "text": [
            "S (3.75  ) DROITE   | _ (3.91  ) BAS      | _ (3.75  ) GAUCHE   | _ (3.6   ) GAUCHE   | \n",
            "_______________________________________________________________________________________\n",
            "D (0.0   ) HAUT     | _ (4.07  ) BAS      | D (0.0   ) HAUT     | _ (3.46  ) HAUT     | \n",
            "_______________________________________________________________________________________\n",
            "_ (4.07  ) DROITE   | _ (4.24  ) DROITE   | _ (4.42  ) BAS      | D (0.0   ) HAUT     | \n",
            "_______________________________________________________________________________________\n",
            "_ (3.91  ) HAUT     | D (0.0   ) HAUT     | _ (4.6   ) DROITE   | J (0.0   ) HAUT     | \n",
            "_______________________________________________________________________________________\n"
          ]
        }
      ],
      "source": [
        "print_mat_q(game.mat_q, game.space)"
      ]
    },
    {
      "cell_type": "markdown",
      "metadata": {
        "id": "7vs_2S4EjiZ3"
      },
      "source": [
        "#### Analyser la table obtenue, montrer par simulation que votre politique ainsi définie fonctionne\n",
        "\n",
        "Dans la table obtenue, chaque ligne represente une case du plateau, une ligne est de la forme [recompense en allant en ***HAUT***, recompense en allant à ***GAUCHE***, recompense en allant en ***BAS***,  recompense en allant à ***DROITE***].\n",
        "\n",
        "Nous pouvons voir que dans chaque ligne, la recompense maximale est associée à la direction qui permet de gagner la partie. Ce qui signifie que notre politique est correcte.\n",
        "\n",
        "Notre simulation montre que notre politique fonctionne, car l'agent arrive à la case d'arrivée en 6 coups, ce qui est le nombre de coups minimum pour gagner la partie."
      ]
    },
    {
      "cell_type": "markdown",
      "metadata": {
        "id": "mIwfF1StjiZ3"
      },
      "source": [
        "### Test avec différents paramètres"
      ]
    },
    {
      "cell_type": "code",
      "execution_count": 41,
      "metadata": {
        "id": "PErqn7f2jiZ4"
      },
      "outputs": [],
      "source": [
        "def play_with_rewards(start_reward, dragon_reward, empty_reward, jail_reward):\n",
        "    # set the rewards\n",
        "    Rewards.set_rewards({\"S\": start_reward, \"D\": dragon_reward, \"J\": jail_reward, \"_\": empty_reward})\n",
        "\n",
        "    # play\n",
        "    game = Game()\n",
        "    game.apply_algorithm()\n",
        "    game.play()\n",
        "    print_mat_q(game.mat_q, game.space)"
      ]
    },
    {
      "cell_type": "code",
      "execution_count": 42,
      "metadata": {},
      "outputs": [],
      "source": [
        "#play_with_rewards(0, -1, -0.1, -1)"
      ]
    },
    {
      "cell_type": "code",
      "execution_count": 43,
      "metadata": {},
      "outputs": [],
      "source": [
        "#play_with_rewards(0, -1, -0.1, -10)"
      ]
    },
    {
      "cell_type": "code",
      "execution_count": 44,
      "metadata": {},
      "outputs": [],
      "source": [
        "#play_with_rewards(0, -1, -0.1, -100)"
      ]
    },
    {
      "cell_type": "code",
      "execution_count": 45,
      "metadata": {},
      "outputs": [],
      "source": [
        "#play_with_rewards(0, -1, -0.1, -100)"
      ]
    },
    {
      "cell_type": "markdown",
      "metadata": {
        "id": "V_XvbUyvnEfa"
      },
      "source": [
        "# Deep Q-Learning"
      ]
    },
    {
      "cell_type": "code",
      "execution_count": 46,
      "metadata": {
        "id": "SQdRhWhsnEfb"
      },
      "outputs": [],
      "source": [
        "# IMPORTS\n",
        "import tensorflow as tf\n",
        "import sys"
      ]
    },
    {
      "cell_type": "code",
      "execution_count": 47,
      "metadata": {
        "id": "TO9tRtzvjiZ4"
      },
      "outputs": [],
      "source": [
        "# configuration\n",
        "GAMMA = 0.999\n",
        "ALPHA = 0.81"
      ]
    },
    {
      "cell_type": "markdown",
      "metadata": {
        "id": "zcaCB4TPnEfb"
      },
      "source": [
        "##### Test avec une structure 2 couches denses ayant 16 entrées (nombre de cases) et 4 sorties (4 actions)\n"
      ]
    },
    {
      "cell_type": "code",
      "execution_count": 54,
      "metadata": {
        "id": "rXv4ZhrfnEfb"
      },
      "outputs": [],
      "source": [
        "# a class for the game\n",
        "class DeepGame:\n",
        "    # constructor that takes :\n",
        "    # number of episodes : 10000 by default\n",
        "    # number of steps : 100 by default\n",
        "    # is_random_space : False by default\n",
        "    # vec_etat : vector of states (for deep Q learning)\n",
        "    # a model : CNN\n",
        "    # the optimizer name\n",
        "    # the loss function name\n",
        "    # verbose : False by default\n",
        "    def __init__(\n",
        "        self, \n",
        "        episodes = 10000, \n",
        "        steps = 100, \n",
        "        is_random_space = False, \n",
        "        vec_etat = None, \n",
        "        model = None,\n",
        "        optimizer_name = \"Nadam\",\n",
        "        loss_fn_name = None,\n",
        "        verbose = False\n",
        "        ):\n",
        "\n",
        "        self.episodes = episodes\n",
        "        self.steps = steps\n",
        "        self.vec_etat = vec_etat\n",
        "        self.model = model\n",
        "        self.optimizer_name = optimizer_name\n",
        "        self.loss_fn_name = loss_fn_name\n",
        "        self.verbose = verbose\n",
        "\n",
        "        # the space\n",
        "        if is_random_space:\n",
        "            self.space = get_random_space(4, 4, 3)\n",
        "        else:\n",
        "            self.space = get_default_space()\n",
        "\n",
        "        # the vector of states\n",
        "        if vec_etat is None:\n",
        "            self.set_default_vec_etat()\n",
        "\n",
        "        # the model\n",
        "        if model is None:\n",
        "            self.set_default_model()\n",
        "\n",
        "        # the optimizer\n",
        "        self.set_optimizer(optimizer_name)\n",
        "\n",
        "        # the loss function\n",
        "        self.set_loss_fn(loss_fn_name)\n",
        "\n",
        "\n",
        "\n",
        "    # a method to set the vector of states\n",
        "    def set_vec_etat(self, vec_etat):\n",
        "        self.vec_etat = vec_etat\n",
        "\n",
        "    # a method to set the default vector of states\n",
        "    def set_default_vec_etat(self):\n",
        "        self.vec_etat = np.zeros((1, get_size(self.space)))\n",
        "        self.vec_etat[0][0] = 1\n",
        "\n",
        "    # a method to reset the vector of states\n",
        "    def reset_vec_etat(self):\n",
        "        self.vec_etat = np.zeros((1, get_size(self.space)))\n",
        "\n",
        "    # a method to update the vector of states\n",
        "    def update_vec_etat(self, state):\n",
        "        self.reset_vec_etat()\n",
        "        self.vec_etat[0, int(get_lines_size(self.space) * state[0] + state[1])] = 1\n",
        "\n",
        "    # a method to set the model\n",
        "    def set_model(self, model):\n",
        "        self.model = model\n",
        "\n",
        "    # a method to set the default model\n",
        "    def set_default_model(self):\n",
        "        self.model = tf.keras.models.Sequential([\n",
        "            tf.keras.layers.Dense(4, activation='relu', input_shape=[get_size(self.space)]),\n",
        "            tf.keras.layers.Dense(4, activation='relu'),\n",
        "            tf.keras.layers.Dense(4),\n",
        "        ])\n",
        "\n",
        "    # a method to save the model\n",
        "    def save_model(self):\n",
        "\n",
        "        # number of epochs\n",
        "        E = \"E_\" + str(self.episodes)\n",
        "        # number of steps\n",
        "        S = \"_S_\" + str(self.steps)\n",
        "        # optimizer\n",
        "        O = \"_O_\" + str(self.optimizer_name)\n",
        "        # loss function\n",
        "        L = \"_L_\" + str(self.loss_fn_name)\n",
        "        # dragon reward\n",
        "        DR = \"_DR_\" + str(Rewards.rewards[\"D\"])\n",
        "        # empty reward\n",
        "        ER = \"_ER_\" + str(Rewards.rewards[\"_\"])\n",
        "        # jail reward\n",
        "        JR = \"_JR_\" + str(Rewards.rewards[\"J\"])\n",
        "\n",
        "        # file path\n",
        "        path = \"./seved_models/\" + E + S + O + L + DR + ER + JR + \".h5\"\n",
        "\n",
        "        self.model.save(path)\n",
        "\n",
        "    # a method to set the optimizer\n",
        "    # optimizer_name : Nadam by default, SGD,Adam\n",
        "    def set_optimizer(self, optimizer_name):\n",
        "        # set the optimizer according to the name \n",
        "        if optimizer_name == \"Adam\":\n",
        "            self.optimizer = tf.keras.optimizers.Adam(learning_rate=0.00001)\n",
        "        elif optimizer_name == \"SGD\":\n",
        "            self.optimizer = tf.keras.optimizers.SGD(learning_rate=0.00001)\n",
        "        else:\n",
        "            self.optimizer = tf.keras.optimizers.Nadam(learning_rate=0.00001)\n",
        "\n",
        "    # a method to set the loss function\n",
        "    # loss_fn : MSE by default, MAE\n",
        "    def set_loss_fn(self, loss_fn):\n",
        "        # set the loss function according to the name\n",
        "        if loss_fn == \"MAE\":\n",
        "            self.loss_fn = tf.keras.losses.MAE\n",
        "        else:\n",
        "            self.loss_fn = tf.keras.losses.mean_squared_error\n",
        "\n",
        "    # function to print if verbose\n",
        "    def print(self, *args):\n",
        "        if self.verbose:\n",
        "            print(*args)\n",
        "\n",
        "    # a method to show progress\n",
        "    def show_progress(self, episode, step, is_random, action, current_case, reward, next_Q_max, target):\n",
        "        choice = \"  (random)  \" if is_random else \"  (predict) \"\n",
        "\n",
        "        self.print(\n",
        "            \"episode : \" + str(episode).ljust(5) +\n",
        "            \"| step : \" + str(step).ljust(5) +\n",
        "            \"| action : \" + str(action).ljust(7) + choice +\n",
        "            \"| current_case : \" + str(current_case).ljust(3) +\n",
        "            \"| reward : \" + str(reward).ljust(5) +\n",
        "            \"| next_Q_max : \" + str(next_Q_max).ljust(15) +\n",
        "            \"| target : \" + str(target).ljust(15)\n",
        "        )\n",
        "        \n",
        "\n",
        "    #####################################################################################################################\n",
        "\n",
        "\n",
        "    # a method to choose an action with the epsilon greedy policy\n",
        "    def choose_action(self, state, epsilon):\n",
        "        is_random = np.random.uniform() < epsilon\n",
        "        if is_random:\n",
        "            action = Directions.get_random_direction()\n",
        "        else:\n",
        "            Sortie_Q = self.model(self.vec_etat)  # En entrée le vecteur symbolisant l'état\n",
        "            action = Directions.directions[np.argmax(Sortie_Q)] #On sélectionne l'action associée avec la sortie max\n",
        "        return action, is_random\n",
        "     \n",
        "    # Train the model\n",
        "    def train(self):\n",
        "        # create a stable model\n",
        "        model_stable = tf.keras.models.clone_model(self.model)\n",
        "        model_stable.set_weights(self.model.get_weights())\n",
        "\n",
        "        loss_history = np.zeros(self.episodes)\n",
        "        reward_history = np.zeros(self.episodes)\n",
        "\n",
        "        for episode in range(self.episodes):\n",
        "            # reset the position\n",
        "            position = (0, 0)\n",
        "            # calculate the epsilon\n",
        "            epsilon = self.episodes / (self.episodes + episode)\n",
        "            loss = 0\n",
        "\n",
        "            for step in range(self.steps):\n",
        "                # play one step\n",
        "                # choose an action\n",
        "                action, is_random = self.choose_action(position, epsilon)\n",
        "                # apply the action\n",
        "                position, reward, fin = applicaion_action(action, position, self.space, self.verbose)\n",
        "                # add the reward\n",
        "                reward_history[episode] += reward\n",
        "  \n",
        "                if fin:\n",
        "                    break\n",
        "\n",
        "                # set weights of the stable model\n",
        "                if step % 10 == 0:\n",
        "                    model_stable.set_weights(self.model.get_weights())\n",
        "\n",
        "                vec_etat_next = np.zeros((1, get_size(self.space))) # ca sera l'entree du reseau\n",
        "                vec_etat_next[0, int(get_lines_size(self.space) * position[0] + position[1])] = 1\n",
        "\n",
        "                # model stable predict\n",
        "                next_Q = model_stable.predict(vec_etat_next, verbose=0)\n",
        "                next_Q_max = np.max(next_Q)\n",
        "\n",
        "                # target\n",
        "                target = reward + GAMMA * next_Q_max * (1 - fin)\n",
        "                self.show_progress(episode, step, is_random, action, self.space[position[0]][position[1]], reward, next_Q_max, target)\n",
        "\n",
        "                # gradient descent\n",
        "                with tf.GradientTape() as tape:\n",
        "                    predict = self.model(self.vec_etat) # ce que l'on pense obtenir\n",
        "                    # get index of the action\n",
        "                    action_index = Directions.get_index(action)\n",
        "                    mask = tf.one_hot(action_index, Directions.get_size())\n",
        "                    val_predict = tf.reduce_sum(predict * mask, axis=1)\n",
        "                    loss += self.loss_fn(target, val_predict)\n",
        "\n",
        "                gradients = tape.gradient(loss, self.model.trainable_variables) # calcul du gradient de la focntion loss en fonction des variables du modèle \n",
        "                self.optimizer.apply_gradients(zip(gradients, self.model.trainable_variables)) # optimisation des paramètres du modèle\n",
        "                loss_history[episode] = loss.numpy() # on récupère la valeur pour afficher l'évolution de l'erreur\n",
        "\n",
        "                # update the vector of states\n",
        "                self.update_vec_etat(position)\n",
        "\n",
        "        plt.plot(loss_history, color=\"red\")\n",
        "        plt.plot(reward_history, color=\"blue\")\n",
        "        plt.title(\"Evolution de l'erreur\")\n",
        "        plt.title(\"Evolution du reward\")\n",
        "        plt.show()\n",
        "\n",
        "        # plt.show()\n",
        "\n",
        "        # save the model\n",
        "        self.save_model()\n",
        "\n",
        "    # play the game\n",
        "    def play(self):\n",
        "\n",
        "        iter = 0\n",
        "        position = (0, 0)\n",
        "        fin = False\n",
        "\n",
        "        while iter < self.steps and not fin:\n",
        "            iter += 1\n",
        "            # update the vector of states\n",
        "            self.update_vec_etat(position)\n",
        "            # choose an action\n",
        "            action, _ = self.choose_action(position, 0)\n",
        "            # apply the action\n",
        "            new_position, reward, fin = applicaion_action(action, position, self.space)\n",
        "\n",
        "            print( str(position) + \" \" + str(action) + \" \" + str(new_position))\n",
        "            \n",
        "            if fin:\n",
        "                print(\"fin de partie en\", iter, \"coups\")\n",
        "                break\n",
        "            # update the position\n",
        "            position = new_position\n",
        "\n",
        "        if iter == self.steps:\n",
        "            print(\"Trop d'itérations\")\n",
        "\n"
      ]
    },
    {
      "attachments": {},
      "cell_type": "markdown",
      "metadata": {},
      "source": [
        "#### Donner quelques éléments de commentaires sur la stratégie que vous avez utilisée pour développer l’apprentissage Deep QL\n",
        "\n",
        "\n",
        "##### 1) La structure du réseau de neurones\n",
        "\n",
        "Nous avons utilisé une structure 3 couches denses ayant 16 entrées (nombre de cases) et 4 sorties (4 actions).\n",
        "\n",
        "##### 2) L'algorithme Deep Q-learning\n",
        "\n",
        "###### Nous nous sommes basés sur le code du cours ***DeepRL*** pour développer notre algorithme Deep Q-learning.\n",
        "\n",
        "*   Nous commençons par créer un ***model_stable*** en clonant notre modèle existant et en fixant ses poids. \n",
        "\n",
        "*   Nous initialisons également un tableau pour enregistrer l'historique des pertes et des récompenses au cours de l'apprentissage.\n",
        "\n",
        "*   Pour chaque épisode, nous réinitialisons la position du joueur et calculons la valeur de l'epsilon.\n",
        "\n",
        "*   Pour chaque étape de l'épisode, nous choisissons une action en utilisant la fonction 'choose_action' en passant en paramètre la position actuelle du joueur et l'epsilon. Nous appliquons ensuite cette action en utilisant la fonction 'applicaion_action' pour obtenir la nouvelle position, la récompense et le booléen indiquant si la partie est fini(dans ce cas,nous sortons de la boucle).\n",
        "\n",
        "*   Tous les 10 étapes, nous mettons à jour les poids du modèle stable avec les poids modèle.\n",
        "\n",
        "*   Nous créons un vecteur ***vec_etat_next*** à la nouvelle position du joueur, qui sera donné en entrée du modèle stable pour prédire la Q_value.\n",
        "\n",
        "*   Nous calculons ***target*** en utilisant la formule du cours, que nous utiliserons avec ***loss_fn*** pour calculer la perte lors de la descente de gradient.\n",
        "\n",
        "*   Nous appliquons la descente de gradient comme vu dans le cours en utilisant ***optimizer*** et ***loss_fn*** données en paramètre.\n",
        "\n",
        "*   Enfin, nous enregistrons la valeur de la perte pour cet épisode dans notre historique et mettons à jour le vecteur d'état en utilisant la nouvelle position du joueur.\n",
        "\n",
        "*   A la fin des épisodes, nous affichons l'évolution de la perte et des récompenses au fil des épisodes."
      ]
    },
    {
      "cell_type": "code",
      "execution_count": 49,
      "metadata": {
        "id": "p6GfYriK4m1A"
      },
      "outputs": [],
      "source": [
        "# function to create a game with a configuration train and play\n",
        "def create_game(optimizer_name, loss_fn_name, episodes, steps, dragon_reward, jail_reward, empty_reward, start_reward=-5, verbose=False):\n",
        "    # set the rewards\n",
        "    Rewards.set_rewards({\"S\": start_reward, \"D\": dragon_reward, \"J\": jail_reward, \"_\": empty_reward})\n",
        "    # create the game\n",
        "    game = DeepGame(episodes=episodes, steps=steps, optimizer_name=optimizer_name, loss_fn_name=loss_fn_name, verbose=verbose)\n",
        "\n",
        "    game.train()\n",
        "    game.play()\n",
        "\n",
        "    return game"
      ]
    },
    {
      "attachments": {},
      "cell_type": "markdown",
      "metadata": {
        "id": "w0TgfG6B6UVS"
      },
      "source": [
        "#### TEST\n",
        "\n",
        "*   ***optimizer*** : Adam\n",
        "*   ***loss function*** : MAE\n",
        "*   ***epochs*** : 1000\n",
        "*   ***steps*** : 100\n",
        "*   ***Reward Dragon*** : -500\n",
        "*   ***Reward Empty*** : -20\n",
        "*   ***Reward Jail*** : 500"
      ]
    },
    {
      "cell_type": "code",
      "execution_count": 56,
      "metadata": {
        "colab": {
          "base_uri": "https://localhost:8080/",
          "height": 1000
        },
        "id": "C9ocj0r97kU8",
        "outputId": "3feb6d94-4353-467e-d91d-b313068c01b9"
      },
      "outputs": [
        {
          "data": {
            "image/png": "[encoded data removed]",
            "text/plain": [
              "<Figure size 640x480 with 1 Axes>"
            ]
          },
          "metadata": {},
          "output_type": "display_data"
        },
        {
          "name": "stdout",
          "output_type": "stream",
          "text": [
            "WARNING:tensorflow:Compiled the loaded model, but the compiled metrics have yet to be built. `model.compile_metrics` will be empty until you train or evaluate the model.\n",
            "(0, 0) DROITE (0, 1)\n",
            "(0, 1) HAUT (0, 1)\n",
            "(0, 1) HAUT (0, 1)\n",
            "(0, 1) HAUT (0, 1)\n",
            "(0, 1) HAUT (0, 1)\n",
            "(0, 1) HAUT (0, 1)\n",
            "(0, 1) HAUT (0, 1)\n",
            "(0, 1) HAUT (0, 1)\n",
            "(0, 1) HAUT (0, 1)\n",
            "(0, 1) HAUT (0, 1)\n",
            "(0, 1) HAUT (0, 1)\n",
            "(0, 1) HAUT (0, 1)\n",
            "(0, 1) HAUT (0, 1)\n",
            "(0, 1) HAUT (0, 1)\n",
            "(0, 1) HAUT (0, 1)\n",
            "(0, 1) HAUT (0, 1)\n",
            "(0, 1) HAUT (0, 1)\n",
            "(0, 1) HAUT (0, 1)\n",
            "(0, 1) HAUT (0, 1)\n",
            "(0, 1) HAUT (0, 1)\n",
            "(0, 1) HAUT (0, 1)\n",
            "(0, 1) HAUT (0, 1)\n",
            "(0, 1) HAUT (0, 1)\n",
            "(0, 1) HAUT (0, 1)\n",
            "(0, 1) HAUT (0, 1)\n",
            "(0, 1) HAUT (0, 1)\n",
            "(0, 1) HAUT (0, 1)\n",
            "(0, 1) HAUT (0, 1)\n",
            "(0, 1) HAUT (0, 1)\n",
            "(0, 1) HAUT (0, 1)\n",
            "(0, 1) HAUT (0, 1)\n",
            "(0, 1) HAUT (0, 1)\n",
            "(0, 1) HAUT (0, 1)\n",
            "(0, 1) HAUT (0, 1)\n",
            "(0, 1) HAUT (0, 1)\n",
            "(0, 1) HAUT (0, 1)\n",
            "(0, 1) HAUT (0, 1)\n",
            "(0, 1) HAUT (0, 1)\n",
            "(0, 1) HAUT (0, 1)\n",
            "(0, 1) HAUT (0, 1)\n",
            "(0, 1) HAUT (0, 1)\n",
            "(0, 1) HAUT (0, 1)\n",
            "(0, 1) HAUT (0, 1)\n",
            "(0, 1) HAUT (0, 1)\n",
            "(0, 1) HAUT (0, 1)\n",
            "(0, 1) HAUT (0, 1)\n",
            "(0, 1) HAUT (0, 1)\n",
            "(0, 1) HAUT (0, 1)\n",
            "(0, 1) HAUT (0, 1)\n",
            "(0, 1) HAUT (0, 1)\n",
            "(0, 1) HAUT (0, 1)\n",
            "(0, 1) HAUT (0, 1)\n",
            "(0, 1) HAUT (0, 1)\n",
            "(0, 1) HAUT (0, 1)\n",
            "(0, 1) HAUT (0, 1)\n",
            "(0, 1) HAUT (0, 1)\n",
            "(0, 1) HAUT (0, 1)\n",
            "(0, 1) HAUT (0, 1)\n",
            "(0, 1) HAUT (0, 1)\n",
            "(0, 1) HAUT (0, 1)\n",
            "(0, 1) HAUT (0, 1)\n",
            "(0, 1) HAUT (0, 1)\n",
            "(0, 1) HAUT (0, 1)\n",
            "(0, 1) HAUT (0, 1)\n",
            "(0, 1) HAUT (0, 1)\n",
            "(0, 1) HAUT (0, 1)\n",
            "(0, 1) HAUT (0, 1)\n",
            "(0, 1) HAUT (0, 1)\n",
            "(0, 1) HAUT (0, 1)\n",
            "(0, 1) HAUT (0, 1)\n",
            "(0, 1) HAUT (0, 1)\n",
            "(0, 1) HAUT (0, 1)\n",
            "(0, 1) HAUT (0, 1)\n",
            "(0, 1) HAUT (0, 1)\n",
            "(0, 1) HAUT (0, 1)\n",
            "(0, 1) HAUT (0, 1)\n",
            "(0, 1) HAUT (0, 1)\n",
            "(0, 1) HAUT (0, 1)\n",
            "(0, 1) HAUT (0, 1)\n",
            "(0, 1) HAUT (0, 1)\n",
            "(0, 1) HAUT (0, 1)\n",
            "(0, 1) HAUT (0, 1)\n",
            "(0, 1) HAUT (0, 1)\n",
            "(0, 1) HAUT (0, 1)\n",
            "(0, 1) HAUT (0, 1)\n",
            "(0, 1) HAUT (0, 1)\n",
            "(0, 1) HAUT (0, 1)\n",
            "(0, 1) HAUT (0, 1)\n",
            "(0, 1) HAUT (0, 1)\n",
            "(0, 1) HAUT (0, 1)\n",
            "(0, 1) HAUT (0, 1)\n",
            "(0, 1) HAUT (0, 1)\n",
            "(0, 1) HAUT (0, 1)\n",
            "(0, 1) HAUT (0, 1)\n",
            "(0, 1) HAUT (0, 1)\n",
            "(0, 1) HAUT (0, 1)\n",
            "(0, 1) HAUT (0, 1)\n",
            "(0, 1) HAUT (0, 1)\n",
            "(0, 1) HAUT (0, 1)\n",
            "(0, 1) HAUT (0, 1)\n",
            "Trop d'itérations\n"
          ]
        }
      ],
      "source": [
        "#game1 = create_game(optimizer_name=\"Adam\", loss_fn_name=\"MAE\", episodes=100, steps=100, dragon_reward=-10, empty_reward=0, jail_reward=10, verbose=False)\n",
        "game1 = create_game(optimizer_name=\"Nadam\", loss_fn_name=\"MSE\", episodes=10, steps=100, dragon_reward=-100, empty_reward=0, jail_reward=100, verbose=False)"
      ]
    },
    {
      "cell_type": "markdown",
      "metadata": {
        "id": "A5uSY-7_7agv"
      },
      "source": [
        "#### TEST\n",
        "\n",
        "\n",
        "*   ***optimizer*** : Nadam\n",
        "*   ***loss function*** : MSE\n",
        "*   ***epochs*** : 5000\n",
        "*   ***steps*** : 100\n",
        "*   ***Reward Dragon*** : -100\n",
        "*   ***Reward Empty*** : -10\n",
        "*   ***Reward Jail*** : 1000\n",
        "\n"
      ]
    },
    {
      "cell_type": "code",
      "execution_count": 51,
      "metadata": {
        "colab": {
          "base_uri": "https://localhost:8080/"
        },
        "id": "f_LPDJcA7c11",
        "outputId": "f7d84157-9ff3-4836-d901-10860a2812a3"
      },
      "outputs": [],
      "source": [
        "#game2 = create_game(optimizer_name=\"Nadam\", loss_fn_name=\"MSE\", episodes=3000, steps=100, dragon_reward=-100, empty_reward=-10, jail_reward=1000)"
      ]
    }
  ],
  "metadata": {
    "accelerator": "GPU",
    "colab": {
      "provenance": []
    },
    "gpuClass": "standard",
    "kernelspec": {
      "display_name": "Python 3",
      "language": "python",
      "name": "python3"
    },
    "language_info": {
      "codemirror_mode": {
        "name": "ipython",
        "version": 3
      },
      "file_extension": ".py",
      "mimetype": "text/x-python",
      "name": "python",
      "nbconvert_exporter": "python",
      "pygments_lexer": "ipython3",
      "version": "3.9.13 (tags/v3.9.13:6de2ca5, May 17 2022, 16:36:42) [MSC v.1929 64 bit (AMD64)]"
    },
    "orig_nbformat": 4,
    "vscode": {
      "interpreter": {
        "hash": "4428cbe1ba9314b3551257500664b995dcc328d303584ff4cad6f1a703111ed9"
      }
    }
  },
  "nbformat": 4,
  "nbformat_minor": 0
}
