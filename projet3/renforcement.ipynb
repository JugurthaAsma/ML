{
 "cells": [
  {
   "cell_type": "code",
   "execution_count": 12,
   "metadata": {},
   "outputs": [],
   "source": [
    "# imports\n",
    "import random\n",
    "import numpy as np"
   ]
  },
  {
   "cell_type": "code",
   "execution_count": 13,
   "metadata": {},
   "outputs": [],
   "source": [
    "REWARDS = {\" \":0.0, \"D\":-1.0, \"J\":12.0, \"S\":0.0}\n",
    "DIRECTIONS = [\n",
    "    \"HAUT\",\n",
    "    \"DROITE\",\n",
    "    \"BAS\",\n",
    "    \"GAUCHE\",\n",
    "]\n",
    "\n",
    "\n",
    "Nparties = 10000\n",
    "Ncoups = 100\n",
    "alpha = 0.81\n",
    "gamma = 0.96"
   ]
  },
  {
   "cell_type": "code",
   "execution_count": 14,
   "metadata": {},
   "outputs": [],
   "source": [
    "def init_random_space(lines, columns, nbDragon):\n",
    "    space = []\n",
    "    for l in range(lines):\n",
    "        space.append([])\n",
    "        for c in range(columns):\n",
    "            space[l].append(' ')\n",
    "    space[0][0] = 'S'\n",
    "    space[lines-1][columns-1] = 'J'\n",
    "\n",
    "    i = 0\n",
    "    while i < nbDragon: \n",
    "        l = random.randint(0, lines-1)\n",
    "        c = random.randint(0, columns-1)\n",
    "        if space[l][c] == ' ':\n",
    "            space[l][c] = 'D'\n",
    "            i += 1\n",
    "        else:\n",
    "            i -= 1\n",
    "    return space\n",
    "\n",
    "\n",
    "\n",
    "def init_space():\n",
    "    space = init_random_space(4, 4, 3)\n",
    "    return space;\n",
    "\n",
    "\n",
    "def isWin (space, position):\n",
    "    (l,c) = position\n",
    "\n",
    "    if(space[l][c]== 'J'):\n",
    "        return True\n",
    "\n",
    "def application_action(action, position, space):\n",
    "\n",
    "    # on pénalise l'action\n",
    "    reward = -1.0\n",
    "    \n",
    "    (l, c) = position\n",
    "\n",
    "    nextPos = position\n",
    "    if action == \"HAUT\":\n",
    "        nextPos = (l-1,c)\n",
    "    elif action == \"DROITE\":\n",
    "        nextPos = (l,c+1)\n",
    "    elif action == \"BAS\":\n",
    "        nextPos = (l+1,c);\n",
    "    elif action == \"GAUCHE\":\n",
    "        nextPos = (l,c-1);\n",
    "\n",
    "    # ne pas sortir de la grille\n",
    "    if (nextPos[0] < len(space) and nextPos[1] < len(space) and nextPos[0] >=0 and nextPos[1] >=0 ):\n",
    "        position = nextPos\n",
    "        # get la case dans le space \n",
    "        case = space[position[0]][position[1]]\n",
    "        if (case == 'D'):\n",
    "            position = (0,0)\n",
    "\n",
    "        reward += REWARDS[case]\n",
    "    else:\n",
    "        reward -= 1.0\n",
    "        \n",
    "    fin = isWin(space, position)\n",
    "    if fin:\n",
    "        position = (0,0)\n",
    "    return position, reward, fin"
   ]
  },
  {
   "cell_type": "code",
   "execution_count": 15,
   "metadata": {},
   "outputs": [
    {
     "name": "stdout",
     "output_type": "stream",
     "text": [
      "[['S', ' ', ' ', 'D'], [' ', ' ', ' ', 'D'], [' ', ' ', 'D', 'D'], [' ', ' ', ' ', 'J']]\n"
     ]
    }
   ],
   "source": [
    "space = init_space();\n",
    "print(space)\n",
    "#position ddu chevalier\n",
    "player_pos = (0, 0)\n",
    "\n",
    "# for i in range(Nparties):\n",
    "#     print(\"------------------------------- tour \", i)\n",
    "#     # on choisit une direction aléatoire\n",
    "#     action = random.choice(DIRECTIONS)\n",
    "#     print(\"action : \", action)\n",
    "#     # on applique l'action\n",
    "#     player_pos, reward, fin = application_action(action, player_pos, space)\n",
    "#     print(\"position : \", player_pos)\n",
    "#     print(\"reward : \", reward)\n",
    "#     print(\"fin : \", fin)\n",
    "\n",
    "#     # fin de partie\n",
    "#     if fin:\n",
    "#         print(\"fin de partie\")\n",
    "#         break"
   ]
  },
  {
   "cell_type": "markdown",
   "metadata": {},
   "source": [
    "# 2. Développement du Q-learning"
   ]
  },
  {
   "cell_type": "code",
   "execution_count": 16,
   "metadata": {},
   "outputs": [],
   "source": [
    "def choose_action(state, epsilon, mat_q):\n",
    "    if random.random() < epsilon:\n",
    "        # on choisit une action aléatoire\n",
    "        action = random.choice(DIRECTIONS)\n",
    "    else:\n",
    "        # on choisit l'action qui maximise la matrice Q\n",
    "        #print(\"state\", state, \"mat_q[state] : \", mat_q[state], \"action : \", DIRECTIONS[np.argmax(mat_q[state])])\n",
    "        action = DIRECTIONS[np.argmax(mat_q[state])]\n",
    "    return action"
   ]
  },
  {
   "cell_type": "code",
   "execution_count": 17,
   "metadata": {},
   "outputs": [],
   "source": [
    "def oneStep(mat_q, state, epsilon):\n",
    "    # on choisit une action\n",
    "    action = choose_action(state, epsilon, mat_q)\n",
    "    # on applique l'action\n",
    "    new_state, reward, fin = application_action(action, state, space)\n",
    "    # on met à jour la matrice Q\n",
    "    #mat_q[state][DIRECTIONS.index(action)] += alpha * (reward + gamma * (mat_q[new_state][DIRECTIONS.index(choose_action(new_state, epsilon, mat_q))]) - mat_q[state][DIRECTIONS.index(action)])\n",
    "    mat_q[state][DIRECTIONS.index(action)] += alpha * (reward + gamma * np.max(mat_q[new_state]) - mat_q[state][DIRECTIONS.index(action)])\n",
    "    return mat_q, new_state, fin"
   ]
  },
  {
   "cell_type": "code",
   "execution_count": 18,
   "metadata": {},
   "outputs": [
    {
     "name": "stdout",
     "output_type": "stream",
     "text": [
      "nombre de coups total :  255447\n",
      "moyenne de coups par partie :  25.5447\n"
     ]
    }
   ],
   "source": [
    "# create a mat_q\n",
    "mat_q = np.zeros((len(space), len(space), len(DIRECTIONS)))\n",
    "\n",
    "totalSteps = 0\n",
    "\n",
    "# on applique l'algorithme\n",
    "for iterationPartie in range(Nparties):\n",
    "    state = (0,0)\n",
    "    # calcul de epsilon\n",
    "    epsilon = Nparties/(Nparties+iterationPartie)\n",
    "    #print(\"epsilon : \", epsilon)\n",
    "\n",
    "    for iterationCoups in range(Ncoups):\n",
    "        mat_q, state, fin = oneStep(mat_q, state, epsilon)\n",
    "        if fin:\n",
    "            #print(\"fin de partie en \", iterationCoups, \" coups, partie \", iterationPartie)\n",
    "            totalSteps += iterationCoups\n",
    "            #print(mat_q)\n",
    "            break\n",
    "\n",
    "print(\"nombre de coups total : \", totalSteps)\n",
    "print(\"moyenne de coups par partie : \", totalSteps/Nparties)\n",
    "\n",
    "#print(mat_q)\n"
   ]
  },
  {
   "cell_type": "code",
   "execution_count": 19,
   "metadata": {},
   "outputs": [
    {
     "name": "stdout",
     "output_type": "stream",
     "text": [
      "fin de partie en  5  coups\n"
     ]
    }
   ],
   "source": [
    "\n",
    "for iterationCoups in range(Ncoups):\n",
    "    mat_q, state, fin = oneStep(mat_q, state, 0)\n",
    "    if fin:\n",
    "        print(\"fin de partie en \", iterationCoups, \" coups\")\n",
    "        break\n"
   ]
  }
 ],
 "metadata": {
  "kernelspec": {
   "display_name": "Python 3.9.13 64-bit (microsoft store)",
   "language": "python",
   "name": "python3"
  },
  "language_info": {
   "codemirror_mode": {
    "name": "ipython",
    "version": 3
   },
   "file_extension": ".py",
   "mimetype": "text/x-python",
   "name": "python",
   "nbconvert_exporter": "python",
   "pygments_lexer": "ipython3",
   "version": "3.9.13"
  },
  "orig_nbformat": 4,
  "vscode": {
   "interpreter": {
    "hash": "4428cbe1ba9314b3551257500664b995dcc328d303584ff4cad6f1a703111ed9"
   }
  }
 },
 "nbformat": 4,
 "nbformat_minor": 2
}
