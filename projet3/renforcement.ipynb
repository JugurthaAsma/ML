{
 "cells": [
  {
   "cell_type": "code",
   "execution_count": null,
   "metadata": {},
   "outputs": [],
   "source": [
    "import random\n",
    "import numpy as np\n",
    "\n",
    "rewards = {\" \":0.0, \"D\":-1.0, \"J\":1.0, \"S\":0.0}\n",
    "\n",
    "def init_space():\n",
    "    space = [\n",
    "        ['S', ' ', ' ', ' '],\n",
    "        ['D', ' ', 'D', ' '],\n",
    "        [' ', ' ', ' ', 'D'],\n",
    "        [' ', 'D', ' ', 'J'],\n",
    "        ]\n",
    "    return space;\n",
    "\n",
    "\n",
    "def isWin (space, position):\n",
    "    (x,y) = position\n",
    "\n",
    "    if(space[x][y]== 'J'):\n",
    "        return True\n",
    "\n",
    "def application_action(action, position, space):\n",
    "\n",
    "    reward = 0.0\n",
    "    \n",
    "    (x, y) = position\n",
    "\n",
    "    fin = space[x][y]== 'J'\n",
    "    nextPos = position\n",
    "    #haut\n",
    "    if action == 0:\n",
    "        nextPos = (x,y+1)\n",
    "    #droit\n",
    "    elif action == 1:\n",
    "        nextPos = (x+1,y)\n",
    "    #bas\n",
    "    elif action == 2:\n",
    "        nextPos = (x,y-1);\n",
    "    #gauche\n",
    "    elif action == 3:\n",
    "        nextPos = (x-1,y);\n",
    "\n",
    "    if (nextPos[0] < len(space) and nextPos[1] < len(space) and nextPos[0] >=0 and nextPos[1] >=0 ):\n",
    "        print(nextPos[0])\n",
    "        print(nextPos[1])\n",
    "        print(len(space))\n",
    "\n",
    "        position = nextPos\n",
    "\n",
    "    return position, reward, fin\n",
    "\n",
    "\n",
    "\n",
    "if __name__ == '__main__':\n",
    "    space = init_space();\n",
    "    #position de l'agent\n",
    "    player_pos = (0, 0)\n",
    "    nbtries = 20\n",
    "\n",
    "    (player_pos,reward,fin) = application_action(3,player_pos,space)\n",
    "    \n",
    "    \n",
    "    print(space)\n",
    "    print(player_pos)\n",
    "\n",
    "\n"
   ]
  }
 ],
 "metadata": {
  "kernelspec": {
   "display_name": "Python 3.10.7 64-bit",
   "language": "python",
   "name": "python3"
  },
  "language_info": {
   "name": "python",
   "version": "3.10.7"
  },
  "orig_nbformat": 4,
  "vscode": {
   "interpreter": {
    "hash": "369f2c481f4da34e4445cda3fffd2e751bd1c4d706f27375911949ba6bb62e1c"
   }
  }
 },
 "nbformat": 4,
 "nbformat_minor": 2
}
