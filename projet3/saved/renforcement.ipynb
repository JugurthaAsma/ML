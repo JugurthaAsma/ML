{
  "cells": [
    {
      "cell_type": "markdown",
      "metadata": {
        "id": "W5HGSGxhnEfS"
      },
      "source": [
        "# 1. Développement d'un jeu"
      ]
    },
    {
      "cell_type": "code",
      "execution_count": 1,
      "metadata": {
        "id": "16u0v0mvnEfU"
      },
      "outputs": [],
      "source": [
        "# imports\n",
        "import random\n",
        "import numpy as np\n",
        "import matplotlib.pyplot as plt"
      ]
    },
    {
      "cell_type": "code",
      "execution_count": 2,
      "metadata": {
        "id": "6bQNPZzonEfV"
      },
      "outputs": [],
      "source": [
        "# configuration\n",
        "GAMMA = 0.96\n",
        "ALPHA = 0.81\n"
      ]
    },
    {
      "cell_type": "code",
      "execution_count": 3,
      "metadata": {
        "id": "dWZoG4tanEfW"
      },
      "outputs": [],
      "source": [
        "#for the space\n",
        "\"\"\"\n",
        "by default the default space is used\n",
        "the space is a 2D array 4 * 4 of characters\n",
        "the characters are: \n",
        "    'S' : the starting point\n",
        "    '_' : empty space\n",
        "    'J' : the goal\n",
        "    'D' : a dragon\n",
        "the default space is:\n",
        "    S___\n",
        "    D_D_ \n",
        "    ___D\n",
        "    _D_J\n",
        "\"\"\"\n",
        "\n",
        "# the default space\n",
        "default_space = [\n",
        "        ['S', '_', '_', '_'],\n",
        "        ['D', '_', 'D', '_'],\n",
        "        ['_', '_', '_', 'D'],\n",
        "        ['_', 'D', '_', 'J']\n",
        "    ]\n",
        "\n",
        "def get_default_space():\n",
        "    return default_space\n",
        "\n",
        "# a random space with number of lines and columns and a number of dragons\n",
        "def get_random_space(lines, columns, dragons):\n",
        "    space = []\n",
        "    for l in range(lines):\n",
        "        space.append([])\n",
        "        for c in range(columns):\n",
        "            space[l].append('_')\n",
        "\n",
        "    space[0][0] = 'S'\n",
        "    space[lines-1][columns-1] = 'J'\n",
        "    \n",
        "    i = 0\n",
        "    while i < dragons:\n",
        "        l = random.randint(0, lines-1)\n",
        "        c = random.randint(0, columns-1)\n",
        "        if space[l][c] == '_':\n",
        "            space[l][c] = 'D'\n",
        "            i += 1\n",
        "        else:\n",
        "            i -= 1\n",
        "\n",
        "    return space\n",
        "\n",
        "# pretty print the space\n",
        "def print_space(space):\n",
        "    for l in space:\n",
        "        for c in l:\n",
        "            print(c, end='| ')\n",
        "        \n",
        "        print()\n",
        "\n",
        "# get the size of the lines\n",
        "def get_lines_size(space):\n",
        "    return len(space)\n",
        "\n",
        "# get the size of the columns\n",
        "def get_columns_size(space):\n",
        "    return len(space[0])\n",
        "\n",
        "# get the size of the space\n",
        "def get_size(space):\n",
        "    return get_lines_size(space) * get_columns_size(space)\n",
        "    "
      ]
    },
    {
      "cell_type": "code",
      "execution_count": 4,
      "metadata": {
        "id": "-eVBWhkOnEfX"
      },
      "outputs": [],
      "source": [
        "# a static class for the rewards\n",
        "class Rewards:\n",
        "    # the rewards for each character\n",
        "    rewards = {\n",
        "        'S': 0,\n",
        "        '_': 0,\n",
        "        'J': 1,\n",
        "        'D': -1\n",
        "    }\n",
        "\n",
        "    # a method to get the reward of a character\n",
        "    def get_reward(character):\n",
        "        return Rewards.rewards.get(character)\n",
        "\n",
        "    # a method to set the reward \n",
        "    def set_rewards(rewards):\n",
        "        Rewards.rewards = rewards\n",
        "\n",
        "    # a method to set the reward of a character\n",
        "    def set_reward(character, reward):\n",
        "        Rewards.rewards[character] = reward"
      ]
    },
    {
      "cell_type": "code",
      "execution_count": 5,
      "metadata": {
        "id": "amIQUyAKnEfX"
      },
      "outputs": [],
      "source": [
        "# a static class for the Directions\n",
        "class Directions:\n",
        "    # the directions\n",
        "    directions = [\"HAUT\", \"DROITE\", \"BAS\", \"GAUCHE\"]\n",
        "\n",
        "    # a method to get the size of the directions\n",
        "    def get_size():\n",
        "        return len(Directions.directions)\n",
        "\n",
        "    # a method to get the index of a direction\n",
        "    def get_index(direction):\n",
        "        return Directions.directions.index(direction)\n",
        "\n",
        "    # a method to get a random direction\n",
        "    def get_random_direction():\n",
        "        return random.choice(Directions.directions)\n",
        "\n",
        "    # a method to get the direction that maximizes the Q value\n",
        "    def get_max_direction(mat_q, state):\n",
        "        return Directions.directions[np.argmax(mat_q[state])]"
      ]
    },
    {
      "cell_type": "code",
      "execution_count": 6,
      "metadata": {
        "id": "Tpo9NTAYnEfY"
      },
      "outputs": [],
      "source": [
        "# for the Q matrix\n",
        "# init the Q matrix with zeros and the size of the space and the directions length\n",
        "def init_mat_q(space):\n",
        "    return np.zeros((get_lines_size(space), get_columns_size(space), Directions.get_size()))\n",
        "\n",
        "# get the Q value of a state and a direction\n",
        "def get_q_value(mat_q, state, direction):\n",
        "    return mat_q[state][Directions.get_index(direction)]\n",
        "\n",
        "# update the Q matrix\n",
        "# according to state, action, reward, next_state, ALPHA and GAMMA\n",
        "def update_mat_q(mat_q, state, action, reward, next_state):\n",
        "    mat_q[state][Directions.get_index(action)] += ALPHA * (reward + GAMMA * np.max(mat_q[next_state]) - mat_q[state][Directions.get_index(action)])\n",
        "    return mat_q\n",
        "\n",
        "# pretty print the space\n",
        "def print_mat_q(mat_q, space):\n",
        "    def get_best_direction(l, c):\n",
        "        return Directions.directions[np.argmax(mat_q[l][c])]\n",
        "\n",
        "    for l in range(get_lines_size(space)):\n",
        "        for c in range(get_columns_size(space)):\n",
        "            case      = space[l][c]\n",
        "            direction = get_best_direction(l, c)\n",
        "            q_value   = str(round(get_q_value(mat_q, (l, c), direction), 2)).ljust(6)\n",
        "\n",
        "            content = case + \" (\" + q_value + \") \" + direction\n",
        "            print(content.ljust(20), end='| ')\n",
        "        print(\"\\n_______________________________________________________________________________________\")"
      ]
    },
    {
      "cell_type": "code",
      "execution_count": 7,
      "metadata": {
        "id": "emfLzRnwnEfY"
      },
      "outputs": [],
      "source": [
        "def isFin (space, position):\n",
        "    (l,c) = position\n",
        "\n",
        "    if(space[l][c]== 'J' or space[l][c]== 'D'):\n",
        "        return True\n",
        "\n",
        "    return False\n",
        "\n",
        "# a method to apply an action to the player\n",
        "# returns [position, reward, fin]\n",
        "def applicaion_action(action, position, space):\n",
        "\n",
        "    # reward -1 every time\n",
        "    reward = -1\n",
        "\n",
        "    (l, c) = position\n",
        "    nextPos = position\n",
        "\n",
        "    if action == \"HAUT\":\n",
        "        nextPos = (l-1,c)\n",
        "    elif action == \"DROITE\":\n",
        "        nextPos = (l,c+1)\n",
        "    elif action == \"BAS\":\n",
        "        nextPos = (l+1,c);\n",
        "    elif action == \"GAUCHE\":\n",
        "        nextPos = (l,c-1);\n",
        "\n",
        "    # check if the next position is in the space\n",
        "    if (nextPos[0] < len(space) and nextPos[1] < len(space) and nextPos[0] >=0 and nextPos[1] >=0 ):\n",
        "        position = nextPos\n",
        "\n",
        "        # back to the starting point if a dragon is encountered\n",
        "        # get the current case in the space\n",
        "        case = space[position[0]][position[1]]\n",
        "        if case == 'D':\n",
        "            position = (0, 0)\n",
        "    \n",
        "        # set the reward\n",
        "        reward += Rewards.get_reward(case)\n",
        "\n",
        "    # check if the player is at the goal\n",
        "    fin = isFin(space, position)\n",
        "\n",
        "    # if the player is at the goal, back to the starting point\n",
        "    if fin:\n",
        "        position = (0, 0)\n",
        "\n",
        "    return [position, reward, fin]"
      ]
    },
    {
      "cell_type": "markdown",
      "metadata": {
        "id": "rDxUSIRynEfZ"
      },
      "source": [
        "# 2. Développement du Q-learning"
      ]
    },
    {
      "cell_type": "code",
      "execution_count": 8,
      "metadata": {
        "id": "TIz5A3zznEfZ"
      },
      "outputs": [],
      "source": [
        "# a class for the game\n",
        "class Game:\n",
        "    # constructor that takes :\n",
        "    # number of episodes : 10000 by default\n",
        "    # number of steps : 100 by default\n",
        "    # is_random_space : False by default\n",
        "    # a Q matrix : initialized with zeros (with the size of the space and the number of directions)\n",
        "    def __init__(self, episodes = 10000, steps = 100, is_random_space = False, mat_q = None):\n",
        "        self.episodes = episodes\n",
        "        self.steps = steps\n",
        "        # the space\n",
        "        if is_random_space:\n",
        "            self.space = get_random_space(4, 4, 3)\n",
        "        else:\n",
        "            self.space = get_default_space()\n",
        "        \n",
        "        # the Q matrix \n",
        "        if mat_q is None:\n",
        "            self.mat_q = init_mat_q(self.space)\n",
        "\n",
        "    # a method to choose an action with the epsilon greedy policy\n",
        "    def choose_action(self, state, epsilon, mat_q):\n",
        "        if random.random() < epsilon:\n",
        "            return Directions.get_random_direction()\n",
        "        else:\n",
        "            return Directions.get_max_direction(mat_q, state)\n",
        "\n",
        "    # a method to play one step (with mat_q, state, epsilon)\n",
        "    def oneStep(self, mat_q, state, epsilon, verbose):\n",
        "        # choose an action\n",
        "        action = self.choose_action(state, epsilon, mat_q)\n",
        "        if verbose:\n",
        "            print(action, end=', ')\n",
        "        # apply the action\n",
        "        new_state, reward, fin = applicaion_action(action, state, self.space)\n",
        "        # update the Q matrix\n",
        "        new_q = update_mat_q(mat_q, state, action, reward, new_state)\n",
        "        return new_q, new_state, fin\n"
      ]
    },
    {
      "cell_type": "code",
      "execution_count": 9,
      "metadata": {
        "id": "eWZfAABqnEfa",
        "outputId": "08bff82a-c1ff-4df7-d6a7-0bcf4bc2423e",
        "colab": {
          "base_uri": "https://localhost:8080/"
        }
      },
      "outputs": [
        {
          "output_type": "stream",
          "name": "stdout",
          "text": [
            "total steps :  240086\n",
            "average steps :  24.0086\n",
            "[[[-21.396843   -21.24671146 -22.396843   -21.396843  ]\n",
            "  [-21.24671146 -21.396843   -21.09032444 -21.396843  ]\n",
            "  [-21.396843   -21.54096928 -22.396843   -21.24671146]\n",
            "  [-21.54096928 -21.54096928 -21.67933051 -21.396843  ]]\n",
            "\n",
            " [[  0.           0.           0.           0.        ]\n",
            "  [-21.24671146 -22.396843   -20.92742129 -22.396843  ]\n",
            "  [  0.           0.           0.           0.        ]\n",
            "  [-21.54096928 -21.67933051 -22.396843   -22.396843  ]]\n",
            "\n",
            " [[-22.396843   -20.92742129 -21.24671146 -21.09032444]\n",
            "  [-21.09032444 -20.75773051 -22.396843   -21.09032444]\n",
            "  [-22.396843   -22.396843   -20.58096928 -20.92742129]\n",
            "  [  0.           0.           0.           0.        ]]\n",
            "\n",
            " [[-21.09032444 -22.396843   -21.24671146 -21.24671146]\n",
            "  [  0.           0.           0.           0.        ]\n",
            "  [-20.75773051 -20.396843   -20.58096928 -22.396843  ]\n",
            "  [  0.           0.           0.           0.        ]]]\n"
          ]
        }
      ],
      "source": [
        "# PLAY\n",
        "game = Game()\n",
        "\n",
        "total_steps = 0\n",
        "\n",
        "# apply the algorithm \n",
        "for episode in range(game.episodes):\n",
        "    # reset the position\n",
        "    position = (0, 0)\n",
        "    # calculate the epsilon\n",
        "    epsilon = game.episodes / (game.episodes + episode)\n",
        "    #print(\"epsilon : \", epsilon)\n",
        "\n",
        "    # play the game\n",
        "    for step in range(1, game.steps):\n",
        "        # play one step\n",
        "        game.mat_q, position, fin = game.oneStep(game.mat_q, position, epsilon, False)\n",
        "        #print(\"position : \", game.position)\n",
        "\n",
        "        # if the game is finished\n",
        "        if fin:\n",
        "            total_steps += step\n",
        "            break\n",
        "\n",
        "print(\"total steps : \", total_steps)\n",
        "print(\"average steps : \", total_steps / game.episodes)\n",
        "\n",
        "print(game.mat_q)"
      ]
    },
    {
      "cell_type": "code",
      "execution_count": 10,
      "metadata": {
        "id": "t6AXQlAnnEfa",
        "outputId": "cb9f7fb6-15d2-465d-eca3-52b114e72f5b",
        "colab": {
          "base_uri": "https://localhost:8080/"
        }
      },
      "outputs": [
        {
          "output_type": "stream",
          "name": "stdout",
          "text": [
            "DROITE, BAS, BAS, DROITE, BAS, DROITE, fin de partie en 6 coups\n"
          ]
        }
      ],
      "source": [
        "# play a with the optimal policy\n",
        "for step in range(1, game.steps):\n",
        "    # play one step\n",
        "    game.mat_q, position, fin = game.oneStep(game.mat_q, position, 0, True)\n",
        "    if fin:\n",
        "        print(\"fin de partie en\", step, \"coups\")\n",
        "        break"
      ]
    },
    {
      "cell_type": "code",
      "execution_count": 11,
      "metadata": {
        "id": "4rYr5rkcnEfa",
        "outputId": "473c5cd5-8e4b-468c-99b4-c72b82ea0859",
        "colab": {
          "base_uri": "https://localhost:8080/"
        }
      },
      "outputs": [
        {
          "output_type": "stream",
          "name": "stdout",
          "text": [
            "S (-21.25) DROITE   | _ (-21.09) BAS      | _ (-21.25) GAUCHE   | _ (-21.4 ) GAUCHE   | \n",
            "_______________________________________________________________________________________\n",
            "D (0.0   ) HAUT     | _ (-20.93) BAS      | D (0.0   ) HAUT     | _ (-21.54) HAUT     | \n",
            "_______________________________________________________________________________________\n",
            "_ (-20.93) DROITE   | _ (-20.76) DROITE   | _ (-20.58) BAS      | D (0.0   ) HAUT     | \n",
            "_______________________________________________________________________________________\n",
            "_ (-21.09) HAUT     | D (0.0   ) HAUT     | _ (-20.4 ) DROITE   | J (0.0   ) HAUT     | \n",
            "_______________________________________________________________________________________\n"
          ]
        }
      ],
      "source": [
        "print_mat_q(game.mat_q, game.space)"
      ]
    },
    {
      "cell_type": "markdown",
      "metadata": {
        "id": "V_XvbUyvnEfa"
      },
      "source": [
        "# Deep Q-Learning"
      ]
    },
    {
      "cell_type": "code",
      "execution_count": 12,
      "metadata": {
        "id": "SQdRhWhsnEfb"
      },
      "outputs": [],
      "source": [
        "# IMPORTS\n",
        "import tensorflow as tf\n",
        "import sys"
      ]
    },
    {
      "cell_type": "code",
      "source": [
        "tf.test.gpu_device_name()"
      ],
      "metadata": {
        "id": "u0pmQ8Zjt3Q4",
        "outputId": "d113c12c-f75f-4deb-f2b5-d73777ae8e85",
        "colab": {
          "base_uri": "https://localhost:8080/",
          "height": 35
        }
      },
      "execution_count": 13,
      "outputs": [
        {
          "output_type": "execute_result",
          "data": {
            "text/plain": [
              "''"
            ],
            "application/vnd.google.colaboratory.intrinsic+json": {
              "type": "string"
            }
          },
          "metadata": {},
          "execution_count": 13
        }
      ]
    },
    {
      "cell_type": "markdown",
      "metadata": {
        "id": "zcaCB4TPnEfb"
      },
      "source": [
        "##### Test avec une structure 2 couches denses ayant 16 entrées (nombre de cases) et 4 sorties (4 actions)\n"
      ]
    },
    {
      "cell_type": "code",
      "execution_count": 14,
      "metadata": {
        "id": "rXv4ZhrfnEfb"
      },
      "outputs": [],
      "source": [
        "# a class for the game\n",
        "class DeepGame:\n",
        "    # constructor that takes :\n",
        "    # number of episodes : 10000 by default\n",
        "    # number of steps : 100 by default\n",
        "    # is_random_space : False by default\n",
        "    # vec_etat : vector of states (for deep Q learning)\n",
        "    # a model : CNN\n",
        "    def __init__(self, episodes = 10000, steps = 100, is_random_space = False, vec_etat = None, model = None):\n",
        "        self.episodes = episodes\n",
        "        self.steps = steps\n",
        "        # the space\n",
        "        if is_random_space:\n",
        "            self.space = get_random_space(4, 4, 3)\n",
        "        else:\n",
        "            self.space = get_default_space()\n",
        "\n",
        "        # the vector of states\n",
        "        if vec_etat is None:\n",
        "            self.set_default_vec_etat()\n",
        "\n",
        "        # the model\n",
        "        if model is None:\n",
        "            self.set_default_model()\n",
        "\n",
        "\n",
        "    # a method to set the vector of states\n",
        "    def set_vec_etat(self, vec_etat):\n",
        "        self.vec_etat = vec_etat\n",
        "\n",
        "    # a method to set the default vector of states\n",
        "    def set_default_vec_etat(self):\n",
        "        self.vec_etat = np.zeros((1, 16))\n",
        "        self.vec_etat[0][0] = 1\n",
        "\n",
        "    # a method to reset the vector of states\n",
        "    def reset_vec_etat(self):\n",
        "        self.vec_etat = np.zeros((1, 16))\n",
        "\n",
        "    # a method to update the vector of states\n",
        "    def update_vec_etat(self, state):\n",
        "        self.reset_vec_etat()\n",
        "        self.vec_etat[0, int(get_lines_size(self.space) * state[0] + state[1])] = 1\n",
        "\n",
        "    # a method to set the model\n",
        "    def set_model(self, model):\n",
        "        self.model = model\n",
        "\n",
        "    # a method to set the default model\n",
        "    def set_default_model(self):\n",
        "        self.model = tf.keras.models.Sequential([\n",
        "            tf.keras.layers.Dense(4, activation='relu', input_shape=[16]),\n",
        "            tf.keras.layers.Dense(4, activation='relu'),\n",
        "            tf.keras.layers.Dense(4),\n",
        "        ])\n",
        "\n",
        "\n",
        "\n",
        "\n",
        "    # a method to choose an action with the epsilon greedy policy\n",
        "    def choose_action(self, state, epsilon):\n",
        "        if random.random() < epsilon:\n",
        "            action = Directions.get_random_direction()\n",
        "            #print(\"random :\", action)\n",
        "            return action\n",
        "        else:\n",
        "            Sortie_Q = self.model(self.vec_etat)  # En entrée le vecteur symbolisant l'état\n",
        "            action = Directions.directions[np.argmax(Sortie_Q)] #On sélectionne l'action associée avec la sortie max\n",
        "            #print(\"max    :\", action)\n",
        "            return action\n",
        "     \n",
        "    # Train the model\n",
        "    def train(self, optimizer, loss_fn, verbose, saved_model_path = \"deep_Q_learning_model.h5\"):\n",
        "        # create a stable model\n",
        "        model_stable = tf.keras.models.clone_model(self.model)\n",
        "        model_stable.set_weights(self.model.get_weights())\n",
        "\n",
        "        history = np.zeros(self.episodes)\n",
        "\n",
        "        for episode in range(self.episodes):\n",
        "            # reset the position\n",
        "            position = (0, 0)\n",
        "            # calculate the epsilon\n",
        "            epsilon = self.episodes / (self.episodes + episode)\n",
        "\n",
        "            for step in range(1, self.steps):\n",
        "                sys.stdout.write(\"\\r\" + \"epoch : \" + str(episode) + \"/\" + str(self.episodes) + \", step : \" + str(step) + \"/\" + str(self.steps))\n",
        "                # play one step\n",
        "                # choose an action\n",
        "                action = self.choose_action(position, epsilon)\n",
        "                # apply the action\n",
        "                new_position, reward, fin = applicaion_action(action, position, self.space)\n",
        "                if verbose:\n",
        "                    print(action, end=\", \")\n",
        "\n",
        "                if fin:\n",
        "                    if verbose:\n",
        "                        print(\"fin de partie en\", step, \"coups\")\n",
        "                    break\n",
        "\n",
        "                # set weights of the stable model\n",
        "                if step % 10 == 0:\n",
        "                    model_stable.set_weights(self.model.get_weights())\n",
        "\n",
        "                vec_etat_next = np.zeros((1, 16)) # ca sera l'entree du reseau\n",
        "                vec_etat_next[0, int(get_lines_size(self.space) * new_position[0] + new_position[1])] = 1\n",
        "\n",
        "                # model stable predict\n",
        "                next_Q = model_stable.predict(vec_etat_next, verbose=0)\n",
        "                next_Q_max = np.max(next_Q)\n",
        "\n",
        "                # target\n",
        "                #print(\"reward : \", reward, \"next_Q_max : \", next_Q_max, \"(1-fin) : \", (1-fin))\n",
        "                target = reward + GAMMA * next_Q_max * (1 - fin)\n",
        "\n",
        "                # gradient descent\n",
        "                with tf.GradientTape() as tape:\n",
        "                    predict = self.model(self.vec_etat) # ce que l'on pense obtenir\n",
        "                    # get index of the action\n",
        "                    action_index = Directions.get_index(action)\n",
        "                    mask = tf.one_hot(action_index, Directions.get_size())\n",
        "                    val_predict = tf.reduce_sum(predict * mask, axis=1)\n",
        "                    loss = loss_fn(target, val_predict)\n",
        "\n",
        "                gradients = tape.gradient(loss, self.model.trainable_variables) #calcul du gradient de la focntion loss en fonction des variables du modèle \n",
        "                optimizer.apply_gradients(zip(gradients, self.model.trainable_variables)) # optimisation des paramètres du modèle\n",
        "                history[episode] = loss.numpy() # on récupère la valeur pour afficher l'évolution de l'erreur\n",
        "\n",
        "                # update the position\n",
        "                position = new_position\n",
        "\n",
        "        plt.plot(history, color=\"red\")\n",
        "        plt.title(\"Evolution de l'erreur\")\n",
        "        plt.show()\n",
        "\n",
        "        # save the model\n",
        "        self.model.save(saved_model_path)\n",
        "\n",
        "\n",
        "\n",
        "    # play the game\n",
        "    def play(self, saved_model_path = \"deep_Q_learning_model.h5\"):\n",
        "        # load the model\n",
        "        self.model = tf.keras.models.load_model(saved_model_path)\n",
        "\n",
        "        MAX_ITER = 100\n",
        "        iter = 0\n",
        "        position = (0, 0)\n",
        "        fin = False\n",
        "\n",
        "        while iter < MAX_ITER and not fin:\n",
        "            iter += 1\n",
        "            # update the vector of states\n",
        "            self.update_vec_etat(position)\n",
        "            # choose an action\n",
        "            action = self.choose_action(position, 0)\n",
        "            # apply the action\n",
        "            new_position, reward, fin = applicaion_action(action, position, self.space)\n",
        "\n",
        "            print( str(position) + \" (\" + str(action) + \") \" + str(new_position))\n",
        "            if iter % 10 == 0:\n",
        "                print()\n",
        "            \n",
        "            if fin:\n",
        "                print(\"fin de partie en\", iter, \"coups\")\n",
        "                break\n",
        "            # update the position\n",
        "            position = new_position\n",
        "\n",
        "        if iter == MAX_ITER:\n",
        "            print(\"Trop d'itérations\")\n",
        "\n"
      ]
    },
    {
      "cell_type": "code",
      "source": [
        "# set rewards \n",
        "Rewards.set_reward(character=\"D\", reward=-100)\n",
        "Rewards.set_reward(character=\"_\", reward=1)\n",
        "Rewards.set_reward(character=\"J\", reward=1000)\n",
        "\n",
        "# create a game\n",
        "game = DeepGame(episodes=10)"
      ],
      "metadata": {
        "id": "C9ocj0r97kU8"
      },
      "execution_count": 18,
      "outputs": []
    },
    {
      "cell_type": "code",
      "execution_count": 19,
      "metadata": {
        "id": "uCARrbRxnEfc",
        "outputId": "910ede7b-c102-4dd6-bfa7-4189644236bb",
        "colab": {
          "base_uri": "https://localhost:8080/",
          "height": 336
        }
      },
      "outputs": [
        {
          "output_type": "stream",
          "name": "stdout",
          "text": [
            "epoch : 9/10, step : 99/100"
          ]
        },
        {
          "output_type": "display_data",
          "data": {
            "text/plain": [
              "<Figure size 432x288 with 1 Axes>"
            ],
            "image/png": "[encoded data removed]"
          },
          "metadata": {
            "needs_background": "light"
          }
        },
        {
          "output_type": "stream",
          "name": "stderr",
          "text": [
            "WARNING:tensorflow:Compiled the loaded model, but the compiled metrics have yet to be built. `model.compile_metrics` will be empty until you train or evaluate the model.\n"
          ]
        }
      ],
      "source": [
        "# choix de l'optimiseur\n",
        "optimizer = tf.keras.optimizers.Nadam(learning_rate=0.001)\n",
        "# on va définir la fonction de perte\n",
        "loss_fn = tf.keras.losses.mean_squared_error\n",
        "\n",
        "# train the model\n",
        "game.train(optimizer, loss_fn, False, \"deep_Q_learning_model.h5\")"
      ]
    },
    {
      "cell_type": "markdown",
      "metadata": {
        "id": "ABqgRfAHnEfd"
      },
      "source": [
        "#### Après apprentissage on peut jouer"
      ]
    },
    {
      "cell_type": "code",
      "execution_count": 17,
      "metadata": {
        "id": "wZDTMhXbnEfd",
        "outputId": "f927390a-cf00-44f6-92c5-1324d9853e5b",
        "colab": {
          "base_uri": "https://localhost:8080/"
        }
      },
      "outputs": [
        {
          "output_type": "stream",
          "name": "stderr",
          "text": [
            "WARNING:tensorflow:No training configuration found in the save file, so the model was *not* compiled. Compile it manually.\n"
          ]
        },
        {
          "output_type": "stream",
          "name": "stdout",
          "text": [
            "(0, 0) (DROITE) (0, 1)\n",
            "(0, 1) (HAUT) (0, 1)\n",
            "(0, 1) (HAUT) (0, 1)\n",
            "(0, 1) (HAUT) (0, 1)\n",
            "(0, 1) (HAUT) (0, 1)\n",
            "(0, 1) (HAUT) (0, 1)\n",
            "(0, 1) (HAUT) (0, 1)\n",
            "(0, 1) (HAUT) (0, 1)\n",
            "(0, 1) (HAUT) (0, 1)\n",
            "(0, 1) (HAUT) (0, 1)\n",
            "\n",
            "(0, 1) (HAUT) (0, 1)\n",
            "(0, 1) (HAUT) (0, 1)\n",
            "(0, 1) (HAUT) (0, 1)\n",
            "(0, 1) (HAUT) (0, 1)\n",
            "(0, 1) (HAUT) (0, 1)\n",
            "(0, 1) (HAUT) (0, 1)\n",
            "(0, 1) (HAUT) (0, 1)\n",
            "(0, 1) (HAUT) (0, 1)\n",
            "(0, 1) (HAUT) (0, 1)\n",
            "(0, 1) (HAUT) (0, 1)\n",
            "\n",
            "(0, 1) (HAUT) (0, 1)\n",
            "(0, 1) (HAUT) (0, 1)\n",
            "(0, 1) (HAUT) (0, 1)\n",
            "(0, 1) (HAUT) (0, 1)\n",
            "(0, 1) (HAUT) (0, 1)\n",
            "(0, 1) (HAUT) (0, 1)\n",
            "(0, 1) (HAUT) (0, 1)\n",
            "(0, 1) (HAUT) (0, 1)\n",
            "(0, 1) (HAUT) (0, 1)\n",
            "(0, 1) (HAUT) (0, 1)\n",
            "\n",
            "(0, 1) (HAUT) (0, 1)\n",
            "(0, 1) (HAUT) (0, 1)\n",
            "(0, 1) (HAUT) (0, 1)\n",
            "(0, 1) (HAUT) (0, 1)\n",
            "(0, 1) (HAUT) (0, 1)\n",
            "(0, 1) (HAUT) (0, 1)\n",
            "(0, 1) (HAUT) (0, 1)\n",
            "(0, 1) (HAUT) (0, 1)\n",
            "(0, 1) (HAUT) (0, 1)\n",
            "(0, 1) (HAUT) (0, 1)\n",
            "\n",
            "(0, 1) (HAUT) (0, 1)\n",
            "(0, 1) (HAUT) (0, 1)\n",
            "(0, 1) (HAUT) (0, 1)\n",
            "(0, 1) (HAUT) (0, 1)\n",
            "(0, 1) (HAUT) (0, 1)\n",
            "(0, 1) (HAUT) (0, 1)\n",
            "(0, 1) (HAUT) (0, 1)\n",
            "(0, 1) (HAUT) (0, 1)\n",
            "(0, 1) (HAUT) (0, 1)\n",
            "(0, 1) (HAUT) (0, 1)\n",
            "\n",
            "(0, 1) (HAUT) (0, 1)\n",
            "(0, 1) (HAUT) (0, 1)\n",
            "(0, 1) (HAUT) (0, 1)\n",
            "(0, 1) (HAUT) (0, 1)\n",
            "(0, 1) (HAUT) (0, 1)\n",
            "(0, 1) (HAUT) (0, 1)\n",
            "(0, 1) (HAUT) (0, 1)\n",
            "(0, 1) (HAUT) (0, 1)\n",
            "(0, 1) (HAUT) (0, 1)\n",
            "(0, 1) (HAUT) (0, 1)\n",
            "\n",
            "(0, 1) (HAUT) (0, 1)\n",
            "(0, 1) (HAUT) (0, 1)\n",
            "(0, 1) (HAUT) (0, 1)\n",
            "(0, 1) (HAUT) (0, 1)\n",
            "(0, 1) (HAUT) (0, 1)\n",
            "(0, 1) (HAUT) (0, 1)\n",
            "(0, 1) (HAUT) (0, 1)\n",
            "(0, 1) (HAUT) (0, 1)\n",
            "(0, 1) (HAUT) (0, 1)\n",
            "(0, 1) (HAUT) (0, 1)\n",
            "\n",
            "(0, 1) (HAUT) (0, 1)\n",
            "(0, 1) (HAUT) (0, 1)\n",
            "(0, 1) (HAUT) (0, 1)\n",
            "(0, 1) (HAUT) (0, 1)\n",
            "(0, 1) (HAUT) (0, 1)\n",
            "(0, 1) (HAUT) (0, 1)\n",
            "(0, 1) (HAUT) (0, 1)\n",
            "(0, 1) (HAUT) (0, 1)\n",
            "(0, 1) (HAUT) (0, 1)\n",
            "(0, 1) (HAUT) (0, 1)\n",
            "\n",
            "(0, 1) (HAUT) (0, 1)\n",
            "(0, 1) (HAUT) (0, 1)\n",
            "(0, 1) (HAUT) (0, 1)\n",
            "(0, 1) (HAUT) (0, 1)\n",
            "(0, 1) (HAUT) (0, 1)\n",
            "(0, 1) (HAUT) (0, 1)\n",
            "(0, 1) (HAUT) (0, 1)\n",
            "(0, 1) (HAUT) (0, 1)\n",
            "(0, 1) (HAUT) (0, 1)\n",
            "(0, 1) (HAUT) (0, 1)\n",
            "\n",
            "(0, 1) (HAUT) (0, 1)\n",
            "(0, 1) (HAUT) (0, 1)\n",
            "(0, 1) (HAUT) (0, 1)\n",
            "(0, 1) (HAUT) (0, 1)\n",
            "(0, 1) (HAUT) (0, 1)\n",
            "(0, 1) (HAUT) (0, 1)\n",
            "(0, 1) (HAUT) (0, 1)\n",
            "(0, 1) (HAUT) (0, 1)\n",
            "(0, 1) (HAUT) (0, 1)\n",
            "(0, 1) (HAUT) (0, 1)\n",
            "\n",
            "Trop d'itérations\n"
          ]
        }
      ],
      "source": [
        "# play the game\n",
        "game.play(\"deep_Q_learning_model.h5\")"
      ]
    }
  ],
  "metadata": {
    "kernelspec": {
      "display_name": "Python 3",
      "language": "python",
      "name": "python3"
    },
    "language_info": {
      "codemirror_mode": {
        "name": "ipython",
        "version": 3
      },
      "file_extension": ".py",
      "mimetype": "text/x-python",
      "name": "python",
      "nbconvert_exporter": "python",
      "pygments_lexer": "ipython3",
      "version": "3.9.13"
    },
    "orig_nbformat": 4,
    "vscode": {
      "interpreter": {
        "hash": "4428cbe1ba9314b3551257500664b995dcc328d303584ff4cad6f1a703111ed9"
      }
    },
    "colab": {
      "provenance": []
    },
    "accelerator": "GPU",
    "gpuClass": "standard"
  },
  "nbformat": 4,
  "nbformat_minor": 0
}